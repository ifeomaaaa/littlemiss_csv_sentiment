{
  "nbformat": 4,
  "nbformat_minor": 0,
  "metadata": {
    "colab": {
      "name": "Untitled4.ipynb",
      "provenance": [],
      "authorship_tag": "ABX9TyNfEAwOUPei2JEGdDsUQvdt"
    },
    "kernelspec": {
      "name": "python3",
      "display_name": "Python 3"
    },
    "language_info": {
      "name": "python"
    }
  },
  "cells": [
    {
      "cell_type": "code",
      "source": [
        "#https://analyticsindiamag.com/hands-on-guide-to-download-analyze-and-visualize-twitter-data/\n",
        "#Importing Libraries\n",
        "import tweepy\n",
        "from textblob import TextBlob\n",
        "import pandas as pd\n",
        "import numpy as np\n",
        "import matplotlib.pyplot as plt\n",
        "import re\n",
        "import nltk\n",
        "nltk.download('stopwords')\n",
        "from nltk.corpus import stopwords\n",
        "from nltk.stem.porter import PorterStemmer\n",
        "from wordcloud import WordCloud\n",
        "import json\n",
        "from collections import Counter"
      ],
      "metadata": {
        "colab": {
          "base_uri": "https://localhost:8080/"
        },
        "id": "hxVmys6F3Vol",
        "outputId": "5a091913-08ba-4186-d680-f2c6314a5688"
      },
      "execution_count": 32,
      "outputs": [
        {
          "output_type": "stream",
          "name": "stderr",
          "text": [
            "[nltk_data] Downloading package stopwords to /root/nltk_data...\n",
            "[nltk_data]   Unzipping corpora/stopwords.zip.\n"
          ]
        }
      ]
    },
    {
      "cell_type": "code",
      "source": [
        "# API credentials here\n",
        "consumer_key= 'insert'\n",
        "consumer_secret= 'insert'\n",
        "access_token= 'insert'\n",
        "access_token_secret= 'insert'\n",
        "\n",
        "auth = tweepy.OAuthHandler(consumer_key, consumer_secret)\n",
        "auth.set_access_token(access_token, access_token_secret)\n",
        "api = tweepy.API(auth,wait_on_rate_limit=True,wait_on_rate_limit_notify=True)"
      ],
      "metadata": {
        "id": "QBBgYcQs_k_p"
      },
      "execution_count": 33,
      "outputs": []
    },
    {
      "cell_type": "code",
      "source": [
        "#Defining Search keyword and number of tweets and searching tweets\n",
        "query = 'little miss'\n",
        "max_tweets = 2000\n",
        "searched_tweets = [status for status in tweepy.Cursor(api.search, q=query).items(max_tweets)]\n"
      ],
      "metadata": {
        "id": "22cqjnkn_sdp"
      },
      "execution_count": 48,
      "outputs": []
    },
    {
      "cell_type": "markdown",
      "source": [
        "If this works attempt again without max tweets so can plot time series data"
      ],
      "metadata": {
        "id": "jcEEYHDuAHTc"
      }
    },
    {
      "cell_type": "code",
      "source": [
        "#Creating Dataframe of Tweets\n",
        "#Cleaning searched tweets and converting into Dataframe\n",
        "my_list_of_dicts = []\n",
        "for each_json_tweet in searched_tweets:\n",
        "    my_list_of_dicts.append(each_json_tweet._json)\n",
        "\n",
        "    \n",
        "with open('tweet_json_Data.txt', 'w') as file:\n",
        "        file.write(json.dumps(my_list_of_dicts, indent=4))\n",
        "\n",
        "        \n",
        "my_demo_list = []\n",
        "with open('tweet_json_Data.txt', encoding='utf-8') as json_file:  \n",
        "    all_data = json.load(json_file)\n",
        "    for each_dictionary in all_data:\n",
        "        tweet_id = each_dictionary['id']\n",
        "        text = each_dictionary['text']\n",
        "        favorite_count = each_dictionary['favorite_count']\n",
        "        retweet_count = each_dictionary['retweet_count']\n",
        "        created_at = each_dictionary['created_at']\n",
        "        my_demo_list.append({'tweet_id': str(tweet_id),\n",
        "                             'text': str(text),\n",
        "                             'favorite_count': int(favorite_count),\n",
        "                             'retweet_count': int(retweet_count),\n",
        "                             'created_at': created_at,\n",
        "                            })\n",
        "        \n",
        "        tweet_dataset = pd.DataFrame(my_demo_list, columns = \n",
        "                                  ['tweet_id', 'text', \n",
        "                                   'favorite_count', 'retweet_count', \n",
        "                                   'created_at'])\n",
        "\n",
        " #Writing tweet dataset ti csv file for future reference\n",
        "tweet_dataset.to_csv('tweet_data.csv')"
      ],
      "metadata": {
        "id": "OPCHP9O0AMSz"
      },
      "execution_count": 49,
      "outputs": []
    },
    {
      "cell_type": "code",
      "source": [
        "#Sentiment Analysis Report\n",
        "#Finding sentiment analysis (+ve, -ve and neutral)\n",
        "pos = 0\n",
        "neg = 0\n",
        "neu = 0\n",
        "for tweet in searched_tweets:\n",
        "    analysis = TextBlob(tweet.text)\n",
        "    if analysis.sentiment[0]>0:\n",
        "       pos = pos +1\n",
        "    elif analysis.sentiment[0]<0:\n",
        "       neg = neg + 1\n",
        "    else:\n",
        "       neu = neu + 1\n",
        "print(\"Total Positive = \", pos)\n",
        "print(\"Total Negative = \", neg)\n",
        "print(\"Total Neutral = \", neu)\n",
        "\n",
        "#Plotting sentiments\n",
        "labels = 'Positive', 'Negative', 'Neutral'\n",
        "sizes = [257, 223, 520]\n",
        "colors = ['pink', 'purple', 'yellow']\n",
        "explode = (0.1, 0, 0)  # explode 1st slice\n",
        "plt.pie(sizes, explode=explode, labels=labels, colors=colors, autopct='%1.1f%%', shadow=True, startangle=140)\n",
        "plt.axis('equal')\n",
        "plt.show()"
      ],
      "metadata": {
        "colab": {
          "base_uri": "https://localhost:8080/",
          "height": 306
        },
        "id": "RXgZlms1C8c-",
        "outputId": "37bb9359-d01a-48cd-9d09-5cce112f2860"
      },
      "execution_count": 56,
      "outputs": [
        {
          "output_type": "stream",
          "name": "stdout",
          "text": [
            "Total Positive =  171\n",
            "Total Negative =  1823\n",
            "Total Neutral =  6\n"
          ]
        },
        {
          "output_type": "display_data",
          "data": {
            "text/plain": [
              "<Figure size 432x288 with 1 Axes>"
            ],
            "image/png": "[encoded data removed]"
          },
          "metadata": {}
        }
      ]
    },
    {
      "cell_type": "code",
      "source": [
        "tweet_dataset.head()\n"
      ],
      "metadata": {
        "colab": {
          "base_uri": "https://localhost:8080/",
          "height": 206
        },
        "id": "ot5zqCzDAVUw",
        "outputId": "9e947f49-eeb4-4df2-f3dd-110925f6449b"
      },
      "execution_count": 50,
      "outputs": [
        {
          "output_type": "execute_result",
          "data": {
            "text/plain": [
              "              tweet_id                                               text  \\\n",
              "0  1552369455723945984  RT @therealsaniyaaa: little miss don’t believe...   \n",
              "1  1552369453844664321  RT @LittleMissNotes: little miss can’t fall as...   \n",
              "2  1552369453798662144  RT @ScoutRipley: I will miss her the most (lit...   \n",
              "3  1552369453475581952  To me the little Miss meme shows that the seco...   \n",
              "4  1552369452943134722     RT @RaeBeaute: Little miss I want to be tiktok   \n",
              "\n",
              "   favorite_count  retweet_count                      created_at  \n",
              "0               0           3756  Wed Jul 27 19:04:54 +0000 2022  \n",
              "1               0           1149  Wed Jul 27 19:04:54 +0000 2022  \n",
              "2               0              3  Wed Jul 27 19:04:54 +0000 2022  \n",
              "3               0              0  Wed Jul 27 19:04:53 +0000 2022  \n",
              "4               0           9001  Wed Jul 27 19:04:53 +0000 2022  "
            ],
            "text/html": [
              "\n",
              "  <div id=\"df-0b855697-03e5-42e6-9412-9a27cde7d407\">\n",
              "    <div class=\"colab-df-container\">\n",
              "      <div>\n",
              "<style scoped>\n",
              "    .dataframe tbody tr th:only-of-type {\n",
              "        vertical-align: middle;\n",
              "    }\n",
              "\n",
              "    .dataframe tbody tr th {\n",
              "        vertical-align: top;\n",
              "    }\n",
              "\n",
              "    .dataframe thead th {\n",
              "        text-align: right;\n",
              "    }\n",
              "</style>\n",
              "<table border=\"1\" class=\"dataframe\">\n",
              "  <thead>\n",
              "    <tr style=\"text-align: right;\">\n",
              "      <th></th>\n",
              "      <th>tweet_id</th>\n",
              "      <th>text</th>\n",
              "      <th>favorite_count</th>\n",
              "      <th>retweet_count</th>\n",
              "      <th>created_at</th>\n",
              "    </tr>\n",
              "  </thead>\n",
              "  <tbody>\n",
              "    <tr>\n",
              "      <th>0</th>\n",
              "      <td>1552369455723945984</td>\n",
              "      <td>RT @therealsaniyaaa: little miss don’t believe...</td>\n",
              "      <td>0</td>\n",
              "      <td>3756</td>\n",
              "      <td>Wed Jul 27 19:04:54 +0000 2022</td>\n",
              "    </tr>\n",
              "    <tr>\n",
              "      <th>1</th>\n",
              "      <td>1552369453844664321</td>\n",
              "      <td>RT @LittleMissNotes: little miss can’t fall as...</td>\n",
              "      <td>0</td>\n",
              "      <td>1149</td>\n",
              "      <td>Wed Jul 27 19:04:54 +0000 2022</td>\n",
              "    </tr>\n",
              "    <tr>\n",
              "      <th>2</th>\n",
              "      <td>1552369453798662144</td>\n",
              "      <td>RT @ScoutRipley: I will miss her the most (lit...</td>\n",
              "      <td>0</td>\n",
              "      <td>3</td>\n",
              "      <td>Wed Jul 27 19:04:54 +0000 2022</td>\n",
              "    </tr>\n",
              "    <tr>\n",
              "      <th>3</th>\n",
              "      <td>1552369453475581952</td>\n",
              "      <td>To me the little Miss meme shows that the seco...</td>\n",
              "      <td>0</td>\n",
              "      <td>0</td>\n",
              "      <td>Wed Jul 27 19:04:53 +0000 2022</td>\n",
              "    </tr>\n",
              "    <tr>\n",
              "      <th>4</th>\n",
              "      <td>1552369452943134722</td>\n",
              "      <td>RT @RaeBeaute: Little miss I want to be tiktok</td>\n",
              "      <td>0</td>\n",
              "      <td>9001</td>\n",
              "      <td>Wed Jul 27 19:04:53 +0000 2022</td>\n",
              "    </tr>\n",
              "  </tbody>\n",
              "</table>\n",
              "</div>\n",
              "      <button class=\"colab-df-convert\" onclick=\"convertToInteractive('df-0b855697-03e5-42e6-9412-9a27cde7d407')\"\n",
              "              title=\"Convert this dataframe to an interactive table.\"\n",
              "              style=\"display:none;\">\n",
              "        \n",
              "  <svg xmlns=\"http://www.w3.org/2000/svg\" height=\"24px\"viewBox=\"0 0 24 24\"\n",
              "       width=\"24px\">\n",
              "    <path d=\"M0 0h24v24H0V0z\" fill=\"none\"/>\n",
              "    <path d=\"M18.56 5.44l.94 2.06.94-2.06 2.06-.94-2.06-.94-.94-2.06-.94 2.06-2.06.94zm-11 1L8.5 8.5l.94-2.06 2.06-.94-2.06-.94L8.5 2.5l-.94 2.06-2.06.94zm10 10l.94 2.06.94-2.06 2.06-.94-2.06-.94-.94-2.06-.94 2.06-2.06.94z\"/><path d=\"M17.41 7.96l-1.37-1.37c-.4-.4-.92-.59-1.43-.59-.52 0-1.04.2-1.43.59L10.3 9.45l-7.72 7.72c-.78.78-.78 2.05 0 2.83L4 21.41c.39.39.9.59 1.41.59.51 0 1.02-.2 1.41-.59l7.78-7.78 2.81-2.81c.8-.78.8-2.07 0-2.86zM5.41 20L4 18.59l7.72-7.72 1.47 1.35L5.41 20z\"/>\n",
              "  </svg>\n",
              "      </button>\n",
              "      \n",
              "  <style>\n",
              "    .colab-df-container {\n",
              "      display:flex;\n",
              "      flex-wrap:wrap;\n",
              "      gap: 12px;\n",
              "    }\n",
              "\n",
              "    .colab-df-convert {\n",
              "      background-color: #E8F0FE;\n",
              "      border: none;\n",
              "      border-radius: 50%;\n",
              "      cursor: pointer;\n",
              "      display: none;\n",
              "      fill: #1967D2;\n",
              "      height: 32px;\n",
              "      padding: 0 0 0 0;\n",
              "      width: 32px;\n",
              "    }\n",
              "\n",
              "    .colab-df-convert:hover {\n",
              "      background-color: #E2EBFA;\n",
              "      box-shadow: 0px 1px 2px rgba(60, 64, 67, 0.3), 0px 1px 3px 1px rgba(60, 64, 67, 0.15);\n",
              "      fill: #174EA6;\n",
              "    }\n",
              "\n",
              "    [theme=dark] .colab-df-convert {\n",
              "      background-color: #3B4455;\n",
              "      fill: #D2E3FC;\n",
              "    }\n",
              "\n",
              "    [theme=dark] .colab-df-convert:hover {\n",
              "      background-color: #434B5C;\n",
              "      box-shadow: 0px 1px 3px 1px rgba(0, 0, 0, 0.15);\n",
              "      filter: drop-shadow(0px 1px 2px rgba(0, 0, 0, 0.3));\n",
              "      fill: #FFFFFF;\n",
              "    }\n",
              "  </style>\n",
              "\n",
              "      <script>\n",
              "        const buttonEl =\n",
              "          document.querySelector('#df-0b855697-03e5-42e6-9412-9a27cde7d407 button.colab-df-convert');\n",
              "        buttonEl.style.display =\n",
              "          google.colab.kernel.accessAllowed ? 'block' : 'none';\n",
              "\n",
              "        async function convertToInteractive(key) {\n",
              "          const element = document.querySelector('#df-0b855697-03e5-42e6-9412-9a27cde7d407');\n",
              "          const dataTable =\n",
              "            await google.colab.kernel.invokeFunction('convertToInteractive',\n",
              "                                                     [key], {});\n",
              "          if (!dataTable) return;\n",
              "\n",
              "          const docLinkHtml = 'Like what you see? Visit the ' +\n",
              "            '<a target=\"_blank\" href=https://colab.research.google.com/notebooks/data_table.ipynb>data table notebook</a>'\n",
              "            + ' to learn more about interactive tables.';\n",
              "          element.innerHTML = '';\n",
              "          dataTable['output_type'] = 'display_data';\n",
              "          await google.colab.output.renderOutput(dataTable, element);\n",
              "          const docLink = document.createElement('div');\n",
              "          docLink.innerHTML = docLinkHtml;\n",
              "          element.appendChild(docLink);\n",
              "        }\n",
              "      </script>\n",
              "    </div>\n",
              "  </div>\n",
              "  "
            ]
          },
          "metadata": {},
          "execution_count": 50
        }
      ]
    },
    {
      "cell_type": "code",
      "source": [
        "#Cleaning Data\n",
        "#Removing @ handle\n",
        "def remove_pattern(input_txt, pattern):\n",
        "    r = re.findall(pattern, input_txt)\n",
        "    for i in r:\n",
        "        input_txt = re.sub(i, '', input_txt)\n",
        "     \n",
        "    return input_txt \n",
        "\n",
        "tweet_dataset['text'] = np.vectorize(remove_pattern)(tweet_dataset['text'], \"@[\\w]*\")\n",
        "\n",
        "tweet_dataset.head()"
      ],
      "metadata": {
        "colab": {
          "base_uri": "https://localhost:8080/",
          "height": 206
        },
        "id": "84qhrPVvA0rM",
        "outputId": "4335bea4-e03b-46f0-a541-030c98e75422"
      },
      "execution_count": 51,
      "outputs": [
        {
          "output_type": "execute_result",
          "data": {
            "text/plain": [
              "              tweet_id                                               text  \\\n",
              "0  1552369455723945984    RT : little miss don’t believe shit a nigga say   \n",
              "1  1552369453844664321                 RT : little miss can’t fall asleep   \n",
              "2  1552369453798662144  RT : I will miss her the most (little gay car)...   \n",
              "3  1552369453475581952  To me the little Miss meme shows that the seco...   \n",
              "4  1552369452943134722               RT : Little miss I want to be tiktok   \n",
              "\n",
              "   favorite_count  retweet_count                      created_at  \n",
              "0               0           3756  Wed Jul 27 19:04:54 +0000 2022  \n",
              "1               0           1149  Wed Jul 27 19:04:54 +0000 2022  \n",
              "2               0              3  Wed Jul 27 19:04:54 +0000 2022  \n",
              "3               0              0  Wed Jul 27 19:04:53 +0000 2022  \n",
              "4               0           9001  Wed Jul 27 19:04:53 +0000 2022  "
            ],
            "text/html": [
              "\n",
              "  <div id=\"df-81097574-ea71-49c2-8d8b-d68ac592682d\">\n",
              "    <div class=\"colab-df-container\">\n",
              "      <div>\n",
              "<style scoped>\n",
              "    .dataframe tbody tr th:only-of-type {\n",
              "        vertical-align: middle;\n",
              "    }\n",
              "\n",
              "    .dataframe tbody tr th {\n",
              "        vertical-align: top;\n",
              "    }\n",
              "\n",
              "    .dataframe thead th {\n",
              "        text-align: right;\n",
              "    }\n",
              "</style>\n",
              "<table border=\"1\" class=\"dataframe\">\n",
              "  <thead>\n",
              "    <tr style=\"text-align: right;\">\n",
              "      <th></th>\n",
              "      <th>tweet_id</th>\n",
              "      <th>text</th>\n",
              "      <th>favorite_count</th>\n",
              "      <th>retweet_count</th>\n",
              "      <th>created_at</th>\n",
              "    </tr>\n",
              "  </thead>\n",
              "  <tbody>\n",
              "    <tr>\n",
              "      <th>0</th>\n",
              "      <td>1552369455723945984</td>\n",
              "      <td>RT : little miss don’t believe shit a nigga say</td>\n",
              "      <td>0</td>\n",
              "      <td>3756</td>\n",
              "      <td>Wed Jul 27 19:04:54 +0000 2022</td>\n",
              "    </tr>\n",
              "    <tr>\n",
              "      <th>1</th>\n",
              "      <td>1552369453844664321</td>\n",
              "      <td>RT : little miss can’t fall asleep</td>\n",
              "      <td>0</td>\n",
              "      <td>1149</td>\n",
              "      <td>Wed Jul 27 19:04:54 +0000 2022</td>\n",
              "    </tr>\n",
              "    <tr>\n",
              "      <th>2</th>\n",
              "      <td>1552369453798662144</td>\n",
              "      <td>RT : I will miss her the most (little gay car)...</td>\n",
              "      <td>0</td>\n",
              "      <td>3</td>\n",
              "      <td>Wed Jul 27 19:04:54 +0000 2022</td>\n",
              "    </tr>\n",
              "    <tr>\n",
              "      <th>3</th>\n",
              "      <td>1552369453475581952</td>\n",
              "      <td>To me the little Miss meme shows that the seco...</td>\n",
              "      <td>0</td>\n",
              "      <td>0</td>\n",
              "      <td>Wed Jul 27 19:04:53 +0000 2022</td>\n",
              "    </tr>\n",
              "    <tr>\n",
              "      <th>4</th>\n",
              "      <td>1552369452943134722</td>\n",
              "      <td>RT : Little miss I want to be tiktok</td>\n",
              "      <td>0</td>\n",
              "      <td>9001</td>\n",
              "      <td>Wed Jul 27 19:04:53 +0000 2022</td>\n",
              "    </tr>\n",
              "  </tbody>\n",
              "</table>\n",
              "</div>\n",
              "      <button class=\"colab-df-convert\" onclick=\"convertToInteractive('df-81097574-ea71-49c2-8d8b-d68ac592682d')\"\n",
              "              title=\"Convert this dataframe to an interactive table.\"\n",
              "              style=\"display:none;\">\n",
              "        \n",
              "  <svg xmlns=\"http://www.w3.org/2000/svg\" height=\"24px\"viewBox=\"0 0 24 24\"\n",
              "       width=\"24px\">\n",
              "    <path d=\"M0 0h24v24H0V0z\" fill=\"none\"/>\n",
              "    <path d=\"M18.56 5.44l.94 2.06.94-2.06 2.06-.94-2.06-.94-.94-2.06-.94 2.06-2.06.94zm-11 1L8.5 8.5l.94-2.06 2.06-.94-2.06-.94L8.5 2.5l-.94 2.06-2.06.94zm10 10l.94 2.06.94-2.06 2.06-.94-2.06-.94-.94-2.06-.94 2.06-2.06.94z\"/><path d=\"M17.41 7.96l-1.37-1.37c-.4-.4-.92-.59-1.43-.59-.52 0-1.04.2-1.43.59L10.3 9.45l-7.72 7.72c-.78.78-.78 2.05 0 2.83L4 21.41c.39.39.9.59 1.41.59.51 0 1.02-.2 1.41-.59l7.78-7.78 2.81-2.81c.8-.78.8-2.07 0-2.86zM5.41 20L4 18.59l7.72-7.72 1.47 1.35L5.41 20z\"/>\n",
              "  </svg>\n",
              "      </button>\n",
              "      \n",
              "  <style>\n",
              "    .colab-df-container {\n",
              "      display:flex;\n",
              "      flex-wrap:wrap;\n",
              "      gap: 12px;\n",
              "    }\n",
              "\n",
              "    .colab-df-convert {\n",
              "      background-color: #E8F0FE;\n",
              "      border: none;\n",
              "      border-radius: 50%;\n",
              "      cursor: pointer;\n",
              "      display: none;\n",
              "      fill: #1967D2;\n",
              "      height: 32px;\n",
              "      padding: 0 0 0 0;\n",
              "      width: 32px;\n",
              "    }\n",
              "\n",
              "    .colab-df-convert:hover {\n",
              "      background-color: #E2EBFA;\n",
              "      box-shadow: 0px 1px 2px rgba(60, 64, 67, 0.3), 0px 1px 3px 1px rgba(60, 64, 67, 0.15);\n",
              "      fill: #174EA6;\n",
              "    }\n",
              "\n",
              "    [theme=dark] .colab-df-convert {\n",
              "      background-color: #3B4455;\n",
              "      fill: #D2E3FC;\n",
              "    }\n",
              "\n",
              "    [theme=dark] .colab-df-convert:hover {\n",
              "      background-color: #434B5C;\n",
              "      box-shadow: 0px 1px 3px 1px rgba(0, 0, 0, 0.15);\n",
              "      filter: drop-shadow(0px 1px 2px rgba(0, 0, 0, 0.3));\n",
              "      fill: #FFFFFF;\n",
              "    }\n",
              "  </style>\n",
              "\n",
              "      <script>\n",
              "        const buttonEl =\n",
              "          document.querySelector('#df-81097574-ea71-49c2-8d8b-d68ac592682d button.colab-df-convert');\n",
              "        buttonEl.style.display =\n",
              "          google.colab.kernel.accessAllowed ? 'block' : 'none';\n",
              "\n",
              "        async function convertToInteractive(key) {\n",
              "          const element = document.querySelector('#df-81097574-ea71-49c2-8d8b-d68ac592682d');\n",
              "          const dataTable =\n",
              "            await google.colab.kernel.invokeFunction('convertToInteractive',\n",
              "                                                     [key], {});\n",
              "          if (!dataTable) return;\n",
              "\n",
              "          const docLinkHtml = 'Like what you see? Visit the ' +\n",
              "            '<a target=\"_blank\" href=https://colab.research.google.com/notebooks/data_table.ipynb>data table notebook</a>'\n",
              "            + ' to learn more about interactive tables.';\n",
              "          element.innerHTML = '';\n",
              "          dataTable['output_type'] = 'display_data';\n",
              "          await google.colab.output.renderOutput(dataTable, element);\n",
              "          const docLink = document.createElement('div');\n",
              "          docLink.innerHTML = docLinkHtml;\n",
              "          element.appendChild(docLink);\n",
              "        }\n",
              "      </script>\n",
              "    </div>\n",
              "  </div>\n",
              "  "
            ]
          },
          "metadata": {},
          "execution_count": 51
        }
      ]
    },
    {
      "cell_type": "code",
      "source": [
        "#Cleaning Tweets\n",
        "corpus = []\n",
        "for i in range(0, 1000):\n",
        "    tweet = re.sub('[^a-zA-Z0-9]', ' ', tweet_dataset['text'][i])\n",
        "    tweet = tweet.lower()\n",
        "    tweet = re.sub('rt', '', tweet)\n",
        "    tweet = re.sub('http', '', tweet)\n",
        "    tweet = re.sub('https', '', tweet)\n",
        "    tweet = tweet.split()\n",
        "    ps = PorterStemmer()\n",
        "    tweet = [ps.stem(word) for word in tweet if not word in set(stopwords.words('english'))]\n",
        "    tweet = ' '.join(tweet)\n",
        "    corpus.append(tweet)"
      ],
      "metadata": {
        "id": "6wNtmOA5A8_v"
      },
      "execution_count": 52,
      "outputs": []
    },
    {
      "cell_type": "code",
      "source": [
        "from google.colab import files\n",
        "files.download(\"tweet_data.csv\")"
      ],
      "metadata": {
        "colab": {
          "base_uri": "https://localhost:8080/",
          "height": 17
        },
        "id": "oZgBjcRWBwsm",
        "outputId": "9eeed4d1-e3f5-465f-b4e9-944717db4ce4"
      },
      "execution_count": 57,
      "outputs": [
        {
          "output_type": "display_data",
          "data": {
            "text/plain": [
              "<IPython.core.display.Javascript object>"
            ],
            "application/javascript": [
              "\n",
              "    async function download(id, filename, size) {\n",
              "      if (!google.colab.kernel.accessAllowed) {\n",
              "        return;\n",
              "      }\n",
              "      const div = document.createElement('div');\n",
              "      const label = document.createElement('label');\n",
              "      label.textContent = `Downloading \"${filename}\": `;\n",
              "      div.appendChild(label);\n",
              "      const progress = document.createElement('progress');\n",
              "      progress.max = size;\n",
              "      div.appendChild(progress);\n",
              "      document.body.appendChild(div);\n",
              "\n",
              "      const buffers = [];\n",
              "      let downloaded = 0;\n",
              "\n",
              "      const channel = await google.colab.kernel.comms.open(id);\n",
              "      // Send a message to notify the kernel that we're ready.\n",
              "      channel.send({})\n",
              "\n",
              "      for await (const message of channel.messages) {\n",
              "        // Send a message to notify the kernel that we're ready.\n",
              "        channel.send({})\n",
              "        if (message.buffers) {\n",
              "          for (const buffer of message.buffers) {\n",
              "            buffers.push(buffer);\n",
              "            downloaded += buffer.byteLength;\n",
              "            progress.value = downloaded;\n",
              "          }\n",
              "        }\n",
              "      }\n",
              "      const blob = new Blob(buffers, {type: 'application/binary'});\n",
              "      const a = document.createElement('a');\n",
              "      a.href = window.URL.createObjectURL(blob);\n",
              "      a.download = filename;\n",
              "      div.appendChild(a);\n",
              "      a.click();\n",
              "      div.remove();\n",
              "    }\n",
              "  "
            ]
          },
          "metadata": {}
        },
        {
          "output_type": "display_data",
          "data": {
            "text/plain": [
              "<IPython.core.display.Javascript object>"
            ],
            "application/javascript": [
              "download(\"download_049f6e66-d949-4546-a066-27e54915487a\", \"tweet_data.csv\", 255037)"
            ]
          },
          "metadata": {}
        }
      ]
    }
  ]
}